{
 "cells": [
  {
   "cell_type": "code",
   "execution_count": 45,
   "id": "ad535051",
   "metadata": {},
   "outputs": [],
   "source": [
    "import numpy as np\n",
    "import pandas as pd\n",
    "import seaborn as sns\n",
    "from sklearn.model_selection import train_test_split\n",
    "import statsmodels.formula.api as smf\n",
    "from sklearn.metrics import r2_score, mean_squared_error, mean_absolute_error, mean_absolute_percentage_error\n",
    "import warnings\n",
    "warnings.filterwarnings(\"ignore\")"
   ]
  },
  {
   "cell_type": "code",
   "execution_count": 2,
   "id": "926f5180",
   "metadata": {},
   "outputs": [
    {
     "data": {
      "text/html": [
       "<div>\n",
       "<style scoped>\n",
       "    .dataframe tbody tr th:only-of-type {\n",
       "        vertical-align: middle;\n",
       "    }\n",
       "\n",
       "    .dataframe tbody tr th {\n",
       "        vertical-align: top;\n",
       "    }\n",
       "\n",
       "    .dataframe thead th {\n",
       "        text-align: right;\n",
       "    }\n",
       "</style>\n",
       "<table border=\"1\" class=\"dataframe\">\n",
       "  <thead>\n",
       "    <tr style=\"text-align: right;\">\n",
       "      <th></th>\n",
       "      <th>id</th>\n",
       "      <th>carat</th>\n",
       "      <th>cut</th>\n",
       "      <th>color</th>\n",
       "      <th>clarity</th>\n",
       "      <th>depth</th>\n",
       "      <th>table</th>\n",
       "      <th>x</th>\n",
       "      <th>y</th>\n",
       "      <th>z</th>\n",
       "      <th>price</th>\n",
       "    </tr>\n",
       "  </thead>\n",
       "  <tbody>\n",
       "    <tr>\n",
       "      <th>0</th>\n",
       "      <td>0</td>\n",
       "      <td>1.52</td>\n",
       "      <td>Premium</td>\n",
       "      <td>F</td>\n",
       "      <td>VS2</td>\n",
       "      <td>62.2</td>\n",
       "      <td>58.0</td>\n",
       "      <td>7.27</td>\n",
       "      <td>7.33</td>\n",
       "      <td>4.55</td>\n",
       "      <td>13619</td>\n",
       "    </tr>\n",
       "    <tr>\n",
       "      <th>1</th>\n",
       "      <td>1</td>\n",
       "      <td>2.03</td>\n",
       "      <td>Very Good</td>\n",
       "      <td>J</td>\n",
       "      <td>SI2</td>\n",
       "      <td>62.0</td>\n",
       "      <td>58.0</td>\n",
       "      <td>8.06</td>\n",
       "      <td>8.12</td>\n",
       "      <td>5.05</td>\n",
       "      <td>13387</td>\n",
       "    </tr>\n",
       "    <tr>\n",
       "      <th>2</th>\n",
       "      <td>2</td>\n",
       "      <td>0.70</td>\n",
       "      <td>Ideal</td>\n",
       "      <td>G</td>\n",
       "      <td>VS1</td>\n",
       "      <td>61.2</td>\n",
       "      <td>57.0</td>\n",
       "      <td>5.69</td>\n",
       "      <td>5.73</td>\n",
       "      <td>3.50</td>\n",
       "      <td>2772</td>\n",
       "    </tr>\n",
       "    <tr>\n",
       "      <th>3</th>\n",
       "      <td>3</td>\n",
       "      <td>0.32</td>\n",
       "      <td>Ideal</td>\n",
       "      <td>G</td>\n",
       "      <td>VS1</td>\n",
       "      <td>61.6</td>\n",
       "      <td>56.0</td>\n",
       "      <td>4.38</td>\n",
       "      <td>4.41</td>\n",
       "      <td>2.71</td>\n",
       "      <td>666</td>\n",
       "    </tr>\n",
       "    <tr>\n",
       "      <th>4</th>\n",
       "      <td>4</td>\n",
       "      <td>1.70</td>\n",
       "      <td>Premium</td>\n",
       "      <td>G</td>\n",
       "      <td>VS2</td>\n",
       "      <td>62.6</td>\n",
       "      <td>59.0</td>\n",
       "      <td>7.65</td>\n",
       "      <td>7.61</td>\n",
       "      <td>4.77</td>\n",
       "      <td>14453</td>\n",
       "    </tr>\n",
       "  </tbody>\n",
       "</table>\n",
       "</div>"
      ],
      "text/plain": [
       "   id  carat        cut color clarity  depth  table     x     y     z  price\n",
       "0   0   1.52    Premium     F     VS2   62.2   58.0  7.27  7.33  4.55  13619\n",
       "1   1   2.03  Very Good     J     SI2   62.0   58.0  8.06  8.12  5.05  13387\n",
       "2   2   0.70      Ideal     G     VS1   61.2   57.0  5.69  5.73  3.50   2772\n",
       "3   3   0.32      Ideal     G     VS1   61.6   56.0  4.38  4.41  2.71    666\n",
       "4   4   1.70    Premium     G     VS2   62.6   59.0  7.65  7.61  4.77  14453"
      ]
     },
     "execution_count": 2,
     "metadata": {},
     "output_type": "execute_result"
    }
   ],
   "source": [
    "diamond=pd.read_csv(\"C://Users//sudhi//OneDrive//Desktop//Analytics Labs//gemstone.csv\")\n",
    "diamond.head()"
   ]
  },
  {
   "cell_type": "code",
   "execution_count": 5,
   "id": "d7804f26",
   "metadata": {},
   "outputs": [],
   "source": [
    "diamond.drop('id',axis=1,inplace=True)"
   ]
  },
  {
   "cell_type": "code",
   "execution_count": 7,
   "id": "2ed84b05",
   "metadata": {},
   "outputs": [],
   "source": [
    "y=diamond['price']"
   ]
  },
  {
   "cell_type": "code",
   "execution_count": 8,
   "id": "26a9df47",
   "metadata": {},
   "outputs": [
    {
     "data": {
      "text/plain": [
       "carat      float64\n",
       "cut         object\n",
       "color       object\n",
       "clarity     object\n",
       "depth      float64\n",
       "table      float64\n",
       "x          float64\n",
       "y          float64\n",
       "z          float64\n",
       "price        int64\n",
       "dtype: object"
      ]
     },
     "execution_count": 8,
     "metadata": {},
     "output_type": "execute_result"
    }
   ],
   "source": [
    "diamond.dtypes"
   ]
  },
  {
   "cell_type": "code",
   "execution_count": 10,
   "id": "65f5f6e6",
   "metadata": {},
   "outputs": [],
   "source": [
    "cat_col=diamond.select_dtypes(include='object')\n",
    "num_col=diamond.select_dtypes(exclude='object')"
   ]
  },
  {
   "cell_type": "code",
   "execution_count": 12,
   "id": "91773fe9",
   "metadata": {},
   "outputs": [],
   "source": [
    "#variables with column names\n",
    "cat_names=cat_col.columns\n",
    "num_names=num_col.columns"
   ]
  },
  {
   "cell_type": "code",
   "execution_count": 19,
   "id": "c214d2f1",
   "metadata": {},
   "outputs": [],
   "source": [
    "#outlier treatment\n",
    "def outlier_treatment(column):\n",
    "    q1 = column.quantile(0.25)\n",
    "    q3 = column.quantile(0.75)\n",
    "    IQR = q3 - q1\n",
    "    lower_bound = q1 - 1.5 * IQR\n",
    "    upper_bound = q3 + 1.5 * IQR\n",
    "    return column.clip(lower=lower_bound, upper=upper_bound)"
   ]
  },
  {
   "cell_type": "code",
   "execution_count": 21,
   "id": "fb3a2f64",
   "metadata": {},
   "outputs": [],
   "source": [
    "\n",
    "num_col=num_col.apply(outlier_treatment)"
   ]
  },
  {
   "cell_type": "code",
   "execution_count": 26,
   "id": "5010ca6e",
   "metadata": {},
   "outputs": [
    {
     "data": {
      "text/plain": [
       "<Axes: >"
      ]
     },
     "execution_count": 26,
     "metadata": {},
     "output_type": "execute_result"
    },
    {
     "data": {
      "image/png": "[encoded data removed]",
      "text/plain": [
       "<Figure size 640x480 with 1 Axes>"
      ]
     },
     "metadata": {},
     "output_type": "display_data"
    }
   ],
   "source": [
    "sns.boxplot(data=num_col)"
   ]
  },
  {
   "cell_type": "code",
   "execution_count": 28,
   "id": "c70b131c",
   "metadata": {},
   "outputs": [
    {
     "data": {
      "text/plain": [
       "cut        0\n",
       "color      0\n",
       "clarity    0\n",
       "dtype: int64"
      ]
     },
     "execution_count": 28,
     "metadata": {},
     "output_type": "execute_result"
    }
   ],
   "source": [
    "#Checking missing value\n",
    "cat_col.isnull().sum()"
   ]
  },
  {
   "cell_type": "code",
   "execution_count": 29,
   "id": "9654ef78",
   "metadata": {},
   "outputs": [
    {
     "data": {
      "text/plain": [
       "Index(['cut', 'color', 'clarity'], dtype='object')"
      ]
     },
     "execution_count": 29,
     "metadata": {},
     "output_type": "execute_result"
    }
   ],
   "source": [
    "cat_col.columns"
   ]
  },
  {
   "cell_type": "code",
   "execution_count": 30,
   "id": "e1b88e49",
   "metadata": {},
   "outputs": [],
   "source": [
    "cat_coded= pd.get_dummies(cat_col[['cut', 'color', 'clarity']], drop_first = True )"
   ]
  },
  {
   "cell_type": "code",
   "execution_count": 34,
   "id": "f2ccf6bb",
   "metadata": {},
   "outputs": [],
   "source": [
    "diamond_final=pd.concat([num_col,cat_coded],axis=1)"
   ]
  },
  {
   "cell_type": "code",
   "execution_count": 70,
   "id": "5fdbce32",
   "metadata": {},
   "outputs": [
    {
     "data": {
      "text/plain": [
       "Index(['carat', 'depth', 'table', 'x', 'y', 'z', 'price', 'cut_Good',\n",
       "       'cut_Ideal', 'cut_Premium', 'cut_Very Good', 'color_E', 'color_F',\n",
       "       'color_G', 'color_H', 'color_I', 'color_J', 'clarity_IF', 'clarity_SI1',\n",
       "       'clarity_SI2', 'clarity_VS1', 'clarity_VS2', 'clarity_VVS1',\n",
       "       'clarity_VVS2'],\n",
       "      dtype='object')"
      ]
     },
     "execution_count": 70,
     "metadata": {},
     "output_type": "execute_result"
    }
   ],
   "source": [
    "diamond_final.columns"
   ]
  },
  {
   "cell_type": "code",
   "execution_count": 72,
   "id": "75faef04",
   "metadata": {},
   "outputs": [],
   "source": [
    "diamond_final=diamond_final.rename(columns={'cut_Very Good':'cut_Very_Good'})"
   ]
  },
  {
   "cell_type": "code",
   "execution_count": 74,
   "id": "18802170",
   "metadata": {},
   "outputs": [],
   "source": [
    "#spitting the data in test and train\n",
    "train, test = train_test_split(diamond_final,test_size=0.2,random_state=1)"
   ]
  },
  {
   "cell_type": "code",
   "execution_count": 75,
   "id": "12bb8d04",
   "metadata": {},
   "outputs": [
    {
     "data": {
      "text/plain": [
       "Index(['carat', 'depth', 'table', 'x', 'y', 'z', 'price', 'cut_Good',\n",
       "       'cut_Ideal', 'cut_Premium', 'cut_Very_Good', 'color_E', 'color_F',\n",
       "       'color_G', 'color_H', 'color_I', 'color_J', 'clarity_IF', 'clarity_SI1',\n",
       "       'clarity_SI2', 'clarity_VS1', 'clarity_VS2', 'clarity_VVS1',\n",
       "       'clarity_VVS2'],\n",
       "      dtype='object')"
      ]
     },
     "execution_count": 75,
     "metadata": {},
     "output_type": "execute_result"
    }
   ],
   "source": [
    "train.columns"
   ]
  },
  {
   "cell_type": "code",
   "execution_count": 76,
   "id": "70d5d312",
   "metadata": {},
   "outputs": [],
   "source": [
    "x_var=train.columns.difference(['price'])\n",
    "y_var='price'"
   ]
  },
  {
   "cell_type": "code",
   "execution_count": 77,
   "id": "a0f376a7",
   "metadata": {},
   "outputs": [],
   "source": [
    "#define the model equation\n",
    "formula_lm = 'price ~'+' + '.join(x_var)"
   ]
  },
  {
   "cell_type": "code",
   "execution_count": 78,
   "id": "fb520110",
   "metadata": {},
   "outputs": [
    {
     "data": {
      "text/plain": [
       "'price ~carat + clarity_IF + clarity_SI1 + clarity_SI2 + clarity_VS1 + clarity_VS2 + clarity_VVS1 + clarity_VVS2 + color_E + color_F + color_G + color_H + color_I + color_J + cut_Good + cut_Ideal + cut_Premium + cut_Very_Good + depth + table + x + y + z'"
      ]
     },
     "execution_count": 78,
     "metadata": {},
     "output_type": "execute_result"
    }
   ],
   "source": [
    "formula_lm"
   ]
  },
  {
   "cell_type": "code",
   "execution_count": 79,
   "id": "f486c332",
   "metadata": {},
   "outputs": [],
   "source": [
    "lm_0 = smf.ols(formula_lm,train).fit()"
   ]
  },
  {
   "cell_type": "code",
   "execution_count": 80,
   "id": "b43ff314",
   "metadata": {},
   "outputs": [
    {
     "name": "stdout",
     "output_type": "stream",
     "text": [
      "                            OLS Regression Results                            \n",
      "==============================================================================\n",
      "Dep. Variable:                  price   R-squared:                       0.951\n",
      "Model:                            OLS   Adj. R-squared:                  0.951\n",
      "Method:                 Least Squares   F-statistic:                 1.320e+05\n",
      "Date:                Tue, 19 Dec 2023   Prob (F-statistic):               0.00\n",
      "Time:                        10:37:58   Log-Likelihood:            -1.2489e+06\n",
      "No. Observations:              154858   AIC:                         2.498e+06\n",
      "Df Residuals:                  154834   BIC:                         2.498e+06\n",
      "Df Model:                          23                                         \n",
      "Covariance Type:            nonrobust                                         \n",
      "=================================================================================\n",
      "                    coef    std err          t      P>|t|      [0.025      0.975]\n",
      "---------------------------------------------------------------------------------\n",
      "Intercept      1149.5376    325.580      3.531      0.000     511.408    1787.667\n",
      "carat           1.09e+04     26.157    416.652      0.000    1.08e+04    1.09e+04\n",
      "clarity_IF     3405.4192     40.694     83.683      0.000    3325.659    3485.179\n",
      "clarity_SI1    2172.7314     38.397     56.586      0.000    2097.475    2247.988\n",
      "clarity_SI2    1373.6705     38.504     35.676      0.000    1298.204    1449.137\n",
      "clarity_VS1    2969.5679     38.586     76.959      0.000    2893.939    3045.197\n",
      "clarity_VS2    2690.9669     38.444     69.996      0.000    2615.617    2766.317\n",
      "clarity_VVS1   3240.1629     39.320     82.404      0.000    3163.096    3317.230\n",
      "clarity_VVS2   3260.8490     38.943     83.734      0.000    3184.521    3337.177\n",
      "color_E        -182.7826      7.184    -25.443      0.000    -196.863    -168.702\n",
      "color_F        -235.3976      7.308    -32.213      0.000    -249.720    -221.075\n",
      "color_G        -328.0984      7.094    -46.252      0.000    -342.002    -314.195\n",
      "color_H        -742.5001      7.589    -97.842      0.000    -757.374    -727.626\n",
      "color_I       -1237.6006      8.845   -139.928      0.000   -1254.936   -1220.265\n",
      "color_J       -1764.9099     12.365   -142.733      0.000   -1789.145   -1740.675\n",
      "cut_Good        417.6030     21.344     19.565      0.000     375.769     459.437\n",
      "cut_Ideal       585.7723     20.624     28.402      0.000     545.349     626.196\n",
      "cut_Premium     567.9085     20.349     27.909      0.000     528.025     607.792\n",
      "cut_Very_Good   523.3249     20.471     25.564      0.000     483.202     563.448\n",
      "depth            -8.1419      4.715     -1.727      0.084     -17.384       1.100\n",
      "table           -27.4428      1.535    -17.879      0.000     -30.451     -24.434\n",
      "x              -441.0151     50.037     -8.814      0.000    -539.086    -342.944\n",
      "y              -168.8640     49.198     -3.432      0.001    -265.290     -72.438\n",
      "z              -841.5605     63.572    -13.238      0.000    -966.160    -716.961\n",
      "==============================================================================\n",
      "Omnibus:                    43734.258   Durbin-Watson:                   1.998\n",
      "Prob(Omnibus):                  0.000   Jarque-Bera (JB):           308999.824\n",
      "Skew:                           1.175   Prob(JB):                         0.00\n",
      "Kurtosis:                       9.509   Cond. No.                     1.43e+04\n",
      "==============================================================================\n",
      "\n",
      "Notes:\n",
      "[1] Standard Errors assume that the covariance matrix of the errors is correctly specified.\n",
      "[2] The condition number is large, 1.43e+04. This might indicate that there are\n",
      "strong multicollinearity or other numerical problems.\n"
     ]
    }
   ],
   "source": [
    "print(lm_0.summary())"
   ]
  },
  {
   "cell_type": "code",
   "execution_count": 81,
   "id": "33e799d4",
   "metadata": {},
   "outputs": [
    {
     "data": {
      "text/plain": [
       "77292     5884.074932\n",
       "6924      2873.446113\n",
       "168362    6925.833082\n",
       "182819    -580.628774\n",
       "182933    1616.426235\n",
       "             ...     \n",
       "73349     1653.823403\n",
       "109259    1723.844399\n",
       "50057     1571.267288\n",
       "5192      3533.510962\n",
       "128037     764.545526\n",
       "Length: 154858, dtype: float64"
      ]
     },
     "execution_count": 81,
     "metadata": {},
     "output_type": "execute_result"
    }
   ],
   "source": [
    "lm_0.predict(train)"
   ]
  },
  {
   "cell_type": "code",
   "execution_count": 82,
   "id": "d964a299",
   "metadata": {},
   "outputs": [],
   "source": [
    "lm_1=smf.ols(formula_lm,test).fit()"
   ]
  },
  {
   "cell_type": "code",
   "execution_count": 83,
   "id": "71a881e7",
   "metadata": {},
   "outputs": [
    {
     "name": "stdout",
     "output_type": "stream",
     "text": [
      "                            OLS Regression Results                            \n",
      "==============================================================================\n",
      "Dep. Variable:                  price   R-squared:                       0.951\n",
      "Model:                            OLS   Adj. R-squared:                  0.951\n",
      "Method:                 Least Squares   F-statistic:                 3.283e+04\n",
      "Date:                Tue, 19 Dec 2023   Prob (F-statistic):               0.00\n",
      "Time:                        10:39:36   Log-Likelihood:            -3.1228e+05\n",
      "No. Observations:               38715   AIC:                         6.246e+05\n",
      "Df Residuals:                   38691   BIC:                         6.248e+05\n",
      "Df Model:                          23                                         \n",
      "Covariance Type:            nonrobust                                         \n",
      "=================================================================================\n",
      "                    coef    std err          t      P>|t|      [0.025      0.975]\n",
      "---------------------------------------------------------------------------------\n",
      "Intercept      2748.4862    594.782      4.621      0.000    1582.698    3914.274\n",
      "carat          1.093e+04     52.723    207.350      0.000    1.08e+04     1.1e+04\n",
      "clarity_IF     3339.0667     80.676     41.389      0.000    3180.940    3497.193\n",
      "clarity_SI1    2098.4026     76.056     27.590      0.000    1949.330    2247.475\n",
      "clarity_SI2    1299.9139     76.304     17.036      0.000    1150.356    1449.472\n",
      "clarity_VS1    2884.6695     76.456     37.730      0.000    2734.814    3034.525\n",
      "clarity_VS2    2623.4402     76.162     34.446      0.000    2474.161    2772.720\n",
      "clarity_VVS1   3151.8170     77.809     40.507      0.000    2999.309    3304.325\n",
      "clarity_VVS2   3203.2929     77.186     41.501      0.000    3052.007    3354.579\n",
      "color_E        -194.6379     14.287    -13.624      0.000    -222.640    -166.636\n",
      "color_F        -233.4568     14.516    -16.083      0.000    -261.909    -205.005\n",
      "color_G        -343.1726     14.118    -24.307      0.000    -370.845    -315.500\n",
      "color_H        -778.1325     15.152    -51.356      0.000    -807.830    -748.435\n",
      "color_I       -1263.7035     17.844    -70.819      0.000   -1298.679   -1228.728\n",
      "color_J       -1797.4255     24.922    -72.123      0.000   -1846.272   -1748.579\n",
      "cut_Good        429.3424     41.738     10.286      0.000     347.534     511.151\n",
      "cut_Ideal       580.0708     40.334     14.382      0.000     501.014     659.127\n",
      "cut_Premium     586.5549     39.783     14.744      0.000     508.579     664.531\n",
      "cut_Very_Good   512.8830     40.070     12.800      0.000     434.345     591.421\n",
      "depth           -30.0069      8.376     -3.582      0.000     -46.424     -13.590\n",
      "table           -30.0745      3.049     -9.863      0.000     -36.051     -24.098\n",
      "x              -632.1524    101.333     -6.238      0.000    -830.769    -433.536\n",
      "y              -196.9724    102.213     -1.927      0.054    -397.312       3.367\n",
      "z              -497.1458    107.049     -4.644      0.000    -706.964    -287.327\n",
      "==============================================================================\n",
      "Omnibus:                     9838.278   Durbin-Watson:                   1.991\n",
      "Prob(Omnibus):                  0.000   Jarque-Bera (JB):            50048.539\n",
      "Skew:                           1.138   Prob(JB):                         0.00\n",
      "Kurtosis:                       8.084   Cond. No.                     1.30e+04\n",
      "==============================================================================\n",
      "\n",
      "Notes:\n",
      "[1] Standard Errors assume that the covariance matrix of the errors is correctly specified.\n",
      "[2] The condition number is large, 1.3e+04. This might indicate that there are\n",
      "strong multicollinearity or other numerical problems.\n"
     ]
    }
   ],
   "source": [
    "print(lm_1.summary())"
   ]
  },
  {
   "cell_type": "code",
   "execution_count": 84,
   "id": "1ebef963",
   "metadata": {},
   "outputs": [
    {
     "data": {
      "text/plain": [
       "99346     1828.076446\n",
       "131771    2232.993215\n",
       "180688    5324.119953\n",
       "176620    1574.068973\n",
       "73302     4393.611619\n",
       "             ...     \n",
       "178719    1559.559558\n",
       "88382      601.892793\n",
       "45720     3382.877070\n",
       "25823     5574.359384\n",
       "46620     3611.642817\n",
       "Length: 38715, dtype: float64"
      ]
     },
     "execution_count": 84,
     "metadata": {},
     "output_type": "execute_result"
    }
   ],
   "source": [
    "lm_1.predict(test)"
   ]
  },
  {
   "cell_type": "code",
   "execution_count": 86,
   "id": "780420e2",
   "metadata": {},
   "outputs": [
    {
     "name": "stdout",
     "output_type": "stream",
     "text": [
      "MSE:  592379.4640019772 594522.5716991813\n",
      "RMSE:  769.6619153901129 771.0528981199548\n"
     ]
    }
   ],
   "source": [
    "# MSE - Mean squared Error\n",
    "mse_train = mean_squared_error( train.price, lm_0.predict(train))\n",
    "mse_test = mean_squared_error( test.price, lm_0.predict(test))\n",
    "print( 'MSE: ', mse_train, mse_test)\n",
    "print( 'RMSE: ', np.sqrt(mse_train), np.sqrt(mse_test))"
   ]
  },
  {
   "cell_type": "code",
   "execution_count": 87,
   "id": "1469ac92",
   "metadata": {},
   "outputs": [],
   "source": [
    "pred=pd.concat([lm_0.predict(train),lm_1.predict(test)]).sort_index()"
   ]
  },
  {
   "cell_type": "code",
   "execution_count": 93,
   "id": "e5d973ba",
   "metadata": {},
   "outputs": [],
   "source": [
    "diamond['pred_price']=round(pred)"
   ]
  },
  {
   "cell_type": "code",
   "execution_count": 94,
   "id": "fa5c361c",
   "metadata": {},
   "outputs": [
    {
     "data": {
      "text/html": [
       "<div>\n",
       "<style scoped>\n",
       "    .dataframe tbody tr th:only-of-type {\n",
       "        vertical-align: middle;\n",
       "    }\n",
       "\n",
       "    .dataframe tbody tr th {\n",
       "        vertical-align: top;\n",
       "    }\n",
       "\n",
       "    .dataframe thead th {\n",
       "        text-align: right;\n",
       "    }\n",
       "</style>\n",
       "<table border=\"1\" class=\"dataframe\">\n",
       "  <thead>\n",
       "    <tr style=\"text-align: right;\">\n",
       "      <th></th>\n",
       "      <th>carat</th>\n",
       "      <th>cut</th>\n",
       "      <th>color</th>\n",
       "      <th>clarity</th>\n",
       "      <th>depth</th>\n",
       "      <th>table</th>\n",
       "      <th>x</th>\n",
       "      <th>y</th>\n",
       "      <th>z</th>\n",
       "      <th>price</th>\n",
       "      <th>pred_price</th>\n",
       "    </tr>\n",
       "  </thead>\n",
       "  <tbody>\n",
       "    <tr>\n",
       "      <th>0</th>\n",
       "      <td>1.52</td>\n",
       "      <td>Premium</td>\n",
       "      <td>F</td>\n",
       "      <td>VS2</td>\n",
       "      <td>62.2</td>\n",
       "      <td>58.0</td>\n",
       "      <td>7.27</td>\n",
       "      <td>7.33</td>\n",
       "      <td>4.55</td>\n",
       "      <td>13619</td>\n",
       "      <td>10368.0</td>\n",
       "    </tr>\n",
       "    <tr>\n",
       "      <th>1</th>\n",
       "      <td>2.03</td>\n",
       "      <td>Very Good</td>\n",
       "      <td>J</td>\n",
       "      <td>SI2</td>\n",
       "      <td>62.0</td>\n",
       "      <td>58.0</td>\n",
       "      <td>8.06</td>\n",
       "      <td>8.12</td>\n",
       "      <td>5.05</td>\n",
       "      <td>13387</td>\n",
       "      <td>11545.0</td>\n",
       "    </tr>\n",
       "    <tr>\n",
       "      <th>2</th>\n",
       "      <td>0.70</td>\n",
       "      <td>Ideal</td>\n",
       "      <td>G</td>\n",
       "      <td>VS1</td>\n",
       "      <td>61.2</td>\n",
       "      <td>57.0</td>\n",
       "      <td>5.69</td>\n",
       "      <td>5.73</td>\n",
       "      <td>3.50</td>\n",
       "      <td>2772</td>\n",
       "      <td>3521.0</td>\n",
       "    </tr>\n",
       "    <tr>\n",
       "      <th>3</th>\n",
       "      <td>0.32</td>\n",
       "      <td>Ideal</td>\n",
       "      <td>G</td>\n",
       "      <td>VS1</td>\n",
       "      <td>61.6</td>\n",
       "      <td>56.0</td>\n",
       "      <td>4.38</td>\n",
       "      <td>4.41</td>\n",
       "      <td>2.71</td>\n",
       "      <td>666</td>\n",
       "      <td>851.0</td>\n",
       "    </tr>\n",
       "    <tr>\n",
       "      <th>4</th>\n",
       "      <td>1.70</td>\n",
       "      <td>Premium</td>\n",
       "      <td>G</td>\n",
       "      <td>VS2</td>\n",
       "      <td>62.6</td>\n",
       "      <td>59.0</td>\n",
       "      <td>7.65</td>\n",
       "      <td>7.61</td>\n",
       "      <td>4.77</td>\n",
       "      <td>14453</td>\n",
       "      <td>11841.0</td>\n",
       "    </tr>\n",
       "    <tr>\n",
       "      <th>...</th>\n",
       "      <td>...</td>\n",
       "      <td>...</td>\n",
       "      <td>...</td>\n",
       "      <td>...</td>\n",
       "      <td>...</td>\n",
       "      <td>...</td>\n",
       "      <td>...</td>\n",
       "      <td>...</td>\n",
       "      <td>...</td>\n",
       "      <td>...</td>\n",
       "      <td>...</td>\n",
       "    </tr>\n",
       "    <tr>\n",
       "      <th>193568</th>\n",
       "      <td>0.31</td>\n",
       "      <td>Ideal</td>\n",
       "      <td>D</td>\n",
       "      <td>VVS2</td>\n",
       "      <td>61.1</td>\n",
       "      <td>56.0</td>\n",
       "      <td>4.35</td>\n",
       "      <td>4.39</td>\n",
       "      <td>2.67</td>\n",
       "      <td>1130</td>\n",
       "      <td>1434.0</td>\n",
       "    </tr>\n",
       "    <tr>\n",
       "      <th>193569</th>\n",
       "      <td>0.70</td>\n",
       "      <td>Premium</td>\n",
       "      <td>G</td>\n",
       "      <td>VVS2</td>\n",
       "      <td>60.3</td>\n",
       "      <td>58.0</td>\n",
       "      <td>5.75</td>\n",
       "      <td>5.77</td>\n",
       "      <td>3.47</td>\n",
       "      <td>2874</td>\n",
       "      <td>3766.0</td>\n",
       "    </tr>\n",
       "    <tr>\n",
       "      <th>193570</th>\n",
       "      <td>0.73</td>\n",
       "      <td>Very Good</td>\n",
       "      <td>F</td>\n",
       "      <td>SI1</td>\n",
       "      <td>63.1</td>\n",
       "      <td>57.0</td>\n",
       "      <td>5.72</td>\n",
       "      <td>5.75</td>\n",
       "      <td>3.62</td>\n",
       "      <td>3036</td>\n",
       "      <td>2948.0</td>\n",
       "    </tr>\n",
       "    <tr>\n",
       "      <th>193571</th>\n",
       "      <td>0.34</td>\n",
       "      <td>Very Good</td>\n",
       "      <td>D</td>\n",
       "      <td>SI1</td>\n",
       "      <td>62.9</td>\n",
       "      <td>55.0</td>\n",
       "      <td>4.45</td>\n",
       "      <td>4.49</td>\n",
       "      <td>2.81</td>\n",
       "      <td>681</td>\n",
       "      <td>441.0</td>\n",
       "    </tr>\n",
       "    <tr>\n",
       "      <th>193572</th>\n",
       "      <td>0.71</td>\n",
       "      <td>Good</td>\n",
       "      <td>E</td>\n",
       "      <td>SI2</td>\n",
       "      <td>60.8</td>\n",
       "      <td>64.0</td>\n",
       "      <td>5.73</td>\n",
       "      <td>5.71</td>\n",
       "      <td>3.48</td>\n",
       "      <td>2258</td>\n",
       "      <td>1909.0</td>\n",
       "    </tr>\n",
       "  </tbody>\n",
       "</table>\n",
       "<p>193573 rows × 11 columns</p>\n",
       "</div>"
      ],
      "text/plain": [
       "        carat        cut color clarity  depth  table     x     y     z  price  \\\n",
       "0        1.52    Premium     F     VS2   62.2   58.0  7.27  7.33  4.55  13619   \n",
       "1        2.03  Very Good     J     SI2   62.0   58.0  8.06  8.12  5.05  13387   \n",
       "2        0.70      Ideal     G     VS1   61.2   57.0  5.69  5.73  3.50   2772   \n",
       "3        0.32      Ideal     G     VS1   61.6   56.0  4.38  4.41  2.71    666   \n",
       "4        1.70    Premium     G     VS2   62.6   59.0  7.65  7.61  4.77  14453   \n",
       "...       ...        ...   ...     ...    ...    ...   ...   ...   ...    ...   \n",
       "193568   0.31      Ideal     D    VVS2   61.1   56.0  4.35  4.39  2.67   1130   \n",
       "193569   0.70    Premium     G    VVS2   60.3   58.0  5.75  5.77  3.47   2874   \n",
       "193570   0.73  Very Good     F     SI1   63.1   57.0  5.72  5.75  3.62   3036   \n",
       "193571   0.34  Very Good     D     SI1   62.9   55.0  4.45  4.49  2.81    681   \n",
       "193572   0.71       Good     E     SI2   60.8   64.0  5.73  5.71  3.48   2258   \n",
       "\n",
       "        pred_price  \n",
       "0          10368.0  \n",
       "1          11545.0  \n",
       "2           3521.0  \n",
       "3            851.0  \n",
       "4          11841.0  \n",
       "...            ...  \n",
       "193568      1434.0  \n",
       "193569      3766.0  \n",
       "193570      2948.0  \n",
       "193571       441.0  \n",
       "193572      1909.0  \n",
       "\n",
       "[193573 rows x 11 columns]"
      ]
     },
     "execution_count": 94,
     "metadata": {},
     "output_type": "execute_result"
    }
   ],
   "source": [
    "diamond"
   ]
  },
  {
   "cell_type": "code",
   "execution_count": 101,
   "id": "b26160e8",
   "metadata": {},
   "outputs": [
    {
     "data": {
      "text/html": [
       "<div>\n",
       "<style scoped>\n",
       "    .dataframe tbody tr th:only-of-type {\n",
       "        vertical-align: middle;\n",
       "    }\n",
       "\n",
       "    .dataframe tbody tr th {\n",
       "        vertical-align: top;\n",
       "    }\n",
       "\n",
       "    .dataframe thead th {\n",
       "        text-align: right;\n",
       "    }\n",
       "</style>\n",
       "<table border=\"1\" class=\"dataframe\">\n",
       "  <thead>\n",
       "    <tr style=\"text-align: right;\">\n",
       "      <th></th>\n",
       "      <th>carat</th>\n",
       "      <th>cut</th>\n",
       "      <th>color</th>\n",
       "      <th>clarity</th>\n",
       "      <th>depth</th>\n",
       "      <th>table</th>\n",
       "      <th>x</th>\n",
       "      <th>y</th>\n",
       "      <th>z</th>\n",
       "      <th>price</th>\n",
       "      <th>pred_price</th>\n",
       "    </tr>\n",
       "  </thead>\n",
       "  <tbody>\n",
       "    <tr>\n",
       "      <th>2</th>\n",
       "      <td>0.70</td>\n",
       "      <td>Ideal</td>\n",
       "      <td>G</td>\n",
       "      <td>VS1</td>\n",
       "      <td>61.2</td>\n",
       "      <td>57.0</td>\n",
       "      <td>5.69</td>\n",
       "      <td>5.73</td>\n",
       "      <td>3.50</td>\n",
       "      <td>2772</td>\n",
       "      <td>3521.0</td>\n",
       "    </tr>\n",
       "    <tr>\n",
       "      <th>3</th>\n",
       "      <td>0.32</td>\n",
       "      <td>Ideal</td>\n",
       "      <td>G</td>\n",
       "      <td>VS1</td>\n",
       "      <td>61.6</td>\n",
       "      <td>56.0</td>\n",
       "      <td>4.38</td>\n",
       "      <td>4.41</td>\n",
       "      <td>2.71</td>\n",
       "      <td>666</td>\n",
       "      <td>851.0</td>\n",
       "    </tr>\n",
       "    <tr>\n",
       "      <th>5</th>\n",
       "      <td>1.51</td>\n",
       "      <td>Very Good</td>\n",
       "      <td>J</td>\n",
       "      <td>SI1</td>\n",
       "      <td>62.8</td>\n",
       "      <td>58.0</td>\n",
       "      <td>7.34</td>\n",
       "      <td>7.29</td>\n",
       "      <td>4.59</td>\n",
       "      <td>7506</td>\n",
       "      <td>8104.0</td>\n",
       "    </tr>\n",
       "    <tr>\n",
       "      <th>6</th>\n",
       "      <td>0.74</td>\n",
       "      <td>Ideal</td>\n",
       "      <td>E</td>\n",
       "      <td>VS2</td>\n",
       "      <td>61.8</td>\n",
       "      <td>57.0</td>\n",
       "      <td>5.76</td>\n",
       "      <td>5.79</td>\n",
       "      <td>3.57</td>\n",
       "      <td>3229</td>\n",
       "      <td>3719.0</td>\n",
       "    </tr>\n",
       "    <tr>\n",
       "      <th>7</th>\n",
       "      <td>1.34</td>\n",
       "      <td>Premium</td>\n",
       "      <td>G</td>\n",
       "      <td>SI2</td>\n",
       "      <td>62.5</td>\n",
       "      <td>57.0</td>\n",
       "      <td>7.00</td>\n",
       "      <td>7.05</td>\n",
       "      <td>4.38</td>\n",
       "      <td>6224</td>\n",
       "      <td>7330.0</td>\n",
       "    </tr>\n",
       "    <tr>\n",
       "      <th>...</th>\n",
       "      <td>...</td>\n",
       "      <td>...</td>\n",
       "      <td>...</td>\n",
       "      <td>...</td>\n",
       "      <td>...</td>\n",
       "      <td>...</td>\n",
       "      <td>...</td>\n",
       "      <td>...</td>\n",
       "      <td>...</td>\n",
       "      <td>...</td>\n",
       "      <td>...</td>\n",
       "    </tr>\n",
       "    <tr>\n",
       "      <th>193560</th>\n",
       "      <td>0.40</td>\n",
       "      <td>Ideal</td>\n",
       "      <td>E</td>\n",
       "      <td>VS2</td>\n",
       "      <td>62.9</td>\n",
       "      <td>57.0</td>\n",
       "      <td>4.69</td>\n",
       "      <td>4.64</td>\n",
       "      <td>2.94</td>\n",
       "      <td>1003</td>\n",
       "      <td>1200.0</td>\n",
       "    </tr>\n",
       "    <tr>\n",
       "      <th>193561</th>\n",
       "      <td>0.30</td>\n",
       "      <td>Ideal</td>\n",
       "      <td>E</td>\n",
       "      <td>VS1</td>\n",
       "      <td>62.4</td>\n",
       "      <td>55.0</td>\n",
       "      <td>4.30</td>\n",
       "      <td>4.33</td>\n",
       "      <td>2.69</td>\n",
       "      <td>800</td>\n",
       "      <td>883.0</td>\n",
       "    </tr>\n",
       "    <tr>\n",
       "      <th>193567</th>\n",
       "      <td>0.58</td>\n",
       "      <td>Ideal</td>\n",
       "      <td>E</td>\n",
       "      <td>VS2</td>\n",
       "      <td>61.8</td>\n",
       "      <td>57.0</td>\n",
       "      <td>5.33</td>\n",
       "      <td>5.36</td>\n",
       "      <td>3.31</td>\n",
       "      <td>1872</td>\n",
       "      <td>2456.0</td>\n",
       "    </tr>\n",
       "    <tr>\n",
       "      <th>193568</th>\n",
       "      <td>0.31</td>\n",
       "      <td>Ideal</td>\n",
       "      <td>D</td>\n",
       "      <td>VVS2</td>\n",
       "      <td>61.1</td>\n",
       "      <td>56.0</td>\n",
       "      <td>4.35</td>\n",
       "      <td>4.39</td>\n",
       "      <td>2.67</td>\n",
       "      <td>1130</td>\n",
       "      <td>1434.0</td>\n",
       "    </tr>\n",
       "    <tr>\n",
       "      <th>193569</th>\n",
       "      <td>0.70</td>\n",
       "      <td>Premium</td>\n",
       "      <td>G</td>\n",
       "      <td>VVS2</td>\n",
       "      <td>60.3</td>\n",
       "      <td>58.0</td>\n",
       "      <td>5.75</td>\n",
       "      <td>5.77</td>\n",
       "      <td>3.47</td>\n",
       "      <td>2874</td>\n",
       "      <td>3766.0</td>\n",
       "    </tr>\n",
       "  </tbody>\n",
       "</table>\n",
       "<p>106909 rows × 11 columns</p>\n",
       "</div>"
      ],
      "text/plain": [
       "        carat        cut color clarity  depth  table     x     y     z  price  \\\n",
       "2        0.70      Ideal     G     VS1   61.2   57.0  5.69  5.73  3.50   2772   \n",
       "3        0.32      Ideal     G     VS1   61.6   56.0  4.38  4.41  2.71    666   \n",
       "5        1.51  Very Good     J     SI1   62.8   58.0  7.34  7.29  4.59   7506   \n",
       "6        0.74      Ideal     E     VS2   61.8   57.0  5.76  5.79  3.57   3229   \n",
       "7        1.34    Premium     G     SI2   62.5   57.0  7.00  7.05  4.38   6224   \n",
       "...       ...        ...   ...     ...    ...    ...   ...   ...   ...    ...   \n",
       "193560   0.40      Ideal     E     VS2   62.9   57.0  4.69  4.64  2.94   1003   \n",
       "193561   0.30      Ideal     E     VS1   62.4   55.0  4.30  4.33  2.69    800   \n",
       "193567   0.58      Ideal     E     VS2   61.8   57.0  5.33  5.36  3.31   1872   \n",
       "193568   0.31      Ideal     D    VVS2   61.1   56.0  4.35  4.39  2.67   1130   \n",
       "193569   0.70    Premium     G    VVS2   60.3   58.0  5.75  5.77  3.47   2874   \n",
       "\n",
       "        pred_price  \n",
       "2           3521.0  \n",
       "3            851.0  \n",
       "5           8104.0  \n",
       "6           3719.0  \n",
       "7           7330.0  \n",
       "...            ...  \n",
       "193560      1200.0  \n",
       "193561       883.0  \n",
       "193567      2456.0  \n",
       "193568      1434.0  \n",
       "193569      3766.0  \n",
       "\n",
       "[106909 rows x 11 columns]"
      ]
     },
     "execution_count": 101,
     "metadata": {},
     "output_type": "execute_result"
    }
   ],
   "source": [
    "diamond.loc[(diamond['pred_price']>diamond['price'])]"
   ]
  },
  {
   "cell_type": "code",
   "execution_count": 104,
   "id": "14ee9bb2",
   "metadata": {},
   "outputs": [],
   "source": [
    "pd.to_pickle(lm_0,\"C://Users//sudhi//OneDrive//Desktop//Analytics Labs//model.pkl\")"
   ]
  },
  {
   "cell_type": "code",
   "execution_count": 103,
   "id": "ebc20624",
   "metadata": {},
   "outputs": [],
   "source": [
    "pd.to_pickle(lm_0)"
   ]
  },
  {
   "cell_type": "code",
   "execution_count": null,
   "id": "04fc8fad",
   "metadata": {},
   "outputs": [],
   "source": []
  }
 ],
 "metadata": {
  "kernelspec": {
   "display_name": "Python 3 (ipykernel)",
   "language": "python",
   "name": "python3"
  },
  "language_info": {
   "codemirror_mode": {
    "name": "ipython",
    "version": 3
   },
   "file_extension": ".py",
   "mimetype": "text/x-python",
   "name": "python",
   "nbconvert_exporter": "python",
   "pygments_lexer": "ipython3",
   "version": "3.10.9"
  }
 },
 "nbformat": 4,
 "nbformat_minor": 5
}
